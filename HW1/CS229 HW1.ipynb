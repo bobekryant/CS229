{
 "cells": [
  {
   "cell_type": "markdown",
   "metadata": {},
   "source": [
    "# Programming Exercise 1: Linear Regression"
   ]
  },
  {
   "cell_type": "code",
   "execution_count": 1,
   "metadata": {
    "collapsed": true
   },
   "outputs": [],
   "source": [
    "import numpy as np\n",
    "import matplotlib.pyplot as plt\n",
    "import copy #for hard copy assignment\n",
    "from mpl_toolkits.mplot3d import Axes3D #for 3d furface plot\n",
    "%matplotlib inline"
   ]
  },
  {
   "cell_type": "markdown",
   "metadata": {},
   "source": [
    "## 1 Simple Octave/MATLAB function\n",
    "Return a 5 x 5 identity matrix"
   ]
  },
  {
   "cell_type": "code",
   "execution_count": 2,
   "metadata": {
    "collapsed": false
   },
   "outputs": [
    {
     "data": {
      "text/plain": [
       "array([[ 1.,  0.,  0.,  0.,  0.],\n",
       "       [ 0.,  1.,  0.,  0.,  0.],\n",
       "       [ 0.,  0.,  1.,  0.,  0.],\n",
       "       [ 0.,  0.,  0.,  1.,  0.],\n",
       "       [ 0.,  0.,  0.,  0.,  1.]])"
      ]
     },
     "execution_count": 2,
     "metadata": {},
     "output_type": "execute_result"
    }
   ],
   "source": [
    "np.identity(5)"
   ]
  },
  {
   "cell_type": "markdown",
   "metadata": {},
   "source": [
    "## 2 Linear Regression with one variable"
   ]
  },
  {
   "cell_type": "markdown",
   "metadata": {},
   "source": [
    "### 2.1 Plotting the Data\n",
    "Use a scatter plot to visulatlize the data. The first column is the population of a city and the second column is the profit of a food truck in that city."
   ]
  },
  {
   "cell_type": "code",
   "execution_count": 3,
   "metadata": {
    "collapsed": false
   },
   "outputs": [],
   "source": [
    "data=np.genfromtxt(r'https://raw.githubusercontent.com/eqiu/Classes/master/CS229/HW1/ex1data1.txt',delimiter=',')\n",
    "X=data[:,0]\n",
    "y=data[:,1]\n",
    "m,p=data.shape"
   ]
  },
  {
   "cell_type": "code",
   "execution_count": 4,
   "metadata": {
    "collapsed": false
   },
   "outputs": [
    {
     "data": {
      "text/plain": [
       "(4, 24)"
      ]
     },
     "execution_count": 4,
     "metadata": {},
     "output_type": "execute_result"
    },
    {
     "data": {
      "image/png": "[encoded data removed]",
      "text/plain": [
       "<matplotlib.figure.Figure at 0x1e6d27a5da0>"
      ]
     },
     "metadata": {},
     "output_type": "display_data"
    }
   ],
   "source": [
    "fig=plt.figure() #initiate figure\n",
    "plt.scatter(X,y,marker='x',c='r') #plot data\n",
    "plt.xlabel('Population of City in 10,000s') #set x axis\n",
    "plt.ylabel('Profit in $10,000s') #set y axis\n",
    "plt.ylim(-5,25) #set limits\n",
    "plt.xlim(4,24)"
   ]
  },
  {
   "cell_type": "markdown",
   "metadata": {},
   "source": [
    "### 2.2 Gradient Descent\n",
    "Fit linear regression parameters $\\theta$ to our dataset using gradient descent. \n",
    "\n",
    "#### Cost function : $$J(\\theta)=\\frac{1}{2m}\\sum_{i=1}^{m}(h_{\\theta}x^{i}-y^{i})^{2}$$\n",
    "where $$h_{\\theta}x=\\theta^{T}x=\\theta_{0}+\\theta_{1}x_{1}$$\n",
    "and $$\\theta_{j}:=\\theta_{j}-\\alpha\\frac{1}{m}\\sum_{i=1}^{m}(h_{\\theta}x^{i}-y^{i})x_{j}$$"
   ]
  },
  {
   "cell_type": "code",
   "execution_count": 32,
   "metadata": {
    "collapsed": false
   },
   "outputs": [],
   "source": [
    "X=np.concatenate((np.ones(m)[:,np.newaxis],data[:,0][:,np.newaxis]),1) #Add a new dimension for intercept term\n",
    "theta=np.zeros((2,1)) #initialize fitting parameters\n",
    "iterations=1500\n",
    "alpha=.01"
   ]
  },
  {
   "cell_type": "code",
   "execution_count": 6,
   "metadata": {
    "collapsed": false
   },
   "outputs": [
    {
     "data": {
      "text/plain": [
       "32.072733877455654"
      ]
     },
     "execution_count": 6,
     "metadata": {},
     "output_type": "execute_result"
    }
   ],
   "source": [
    "def computeCost(X,y,theta): #computes the costs of using theta as the parameter for linear regression to fit the data points in X and y\n",
    "    m=y.shape[0] #number of traning examples\n",
    "    hx=np.dot(X,theta)\n",
    "    cost=0\n",
    "    for i in range(m):\n",
    "        cost+=(hx[i,0]-y[i])**2\n",
    "    cost=cost/(2*m)\n",
    "    return cost\n",
    "computeCost(X,y,theta)"
   ]
  },
  {
   "cell_type": "code",
   "execution_count": 27,
   "metadata": {
    "collapsed": false
   },
   "outputs": [],
   "source": [
    "def gradientDescent(X,y,theta,alpha,num_iters):\n",
    "    m=y.shape[0]\n",
    "    J_history=np.zeros(num_iters)\n",
    "    theta_temp=np.empty(theta.shape)\n",
    "    for i in range(num_iters):\n",
    "        theta_temp[0]=theta[0]-alpha*(1/m)*np.dot((np.dot(X,theta)-y[:,np.newaxis]).T,X[:,0])[0]\n",
    "        theta_temp[1]=theta[1]-alpha*(1/m)*np.dot((np.dot(X,theta)-y[:,np.newaxis]).T,X[:,1])[0]        \n",
    "        theta=copy.deepcopy(theta_temp) #do not assign. Just copy\n",
    "        J_history[i]=computeCost(X,y,theta) #record cost function\n",
    "    return theta,J_history"
   ]
  },
  {
   "cell_type": "code",
   "execution_count": 33,
   "metadata": {
    "collapsed": false
   },
   "outputs": [
    {
     "data": {
      "text/plain": [
       "array([[-3.63029144],\n",
       "       [ 1.16636235]])"
      ]
     },
     "execution_count": 33,
     "metadata": {},
     "output_type": "execute_result"
    }
   ],
   "source": [
    "theta,J_history=gradientDescent(X,y,theta,alpha,1500) #run gradient descent\n",
    "theta"
   ]
  },
  {
   "cell_type": "code",
   "execution_count": 28,
   "metadata": {
    "collapsed": true
   },
   "outputs": [],
   "source": [
    "def gradientDescent2(X,y,theta,alpha,num_iters):\n",
    "    m=y.shape[0]\n",
    "    J_history=np.zeros(num_iters)\n",
    "    theta_temp=np.empty(theta.shape)\n",
    "    for i in range(num_iters):\n",
    "        for j in range(len(theta)):\n",
    "            theta_temp[j]=theta[j]-alpha*(1/m)*np.dot((np.dot(X,theta)-y[:,np.newaxis]).T,X[:,j])[0]\n",
    "        theta=copy.deepcopy(theta_temp) #do not assign. Just copy\n",
    "        J_history[i]=computeCost(X,y,theta) #record cost function\n",
    "    return theta,J_history"
   ]
  },
  {
   "cell_type": "code",
   "execution_count": 17,
   "metadata": {
    "collapsed": false
   },
   "outputs": [
    {
     "name": "stdout",
     "output_type": "stream",
     "text": [
      "For population = 35,000, we predict a profit of  4519.7678677\n",
      "For population = 70,000, we predict a profit of  45342.4501294\n"
     ]
    }
   ],
   "source": [
    "predict1=np.dot(np.array([1,3.5]),theta)[0] # takes inner product to get y_bar\n",
    "print('For population = 35,000, we predict a profit of ', predict1*10000)\n",
    "predict2 = np.dot([1,7],theta)[0]\n",
    "print('For population = 70,000, we predict a profit of ', predict2*10000)"
   ]
  },
  {
   "cell_type": "code",
   "execution_count": 15,
   "metadata": {
    "collapsed": false
   },
   "outputs": [
    {
     "data": {
      "text/plain": [
       "[<matplotlib.lines.Line2D at 0x14880157dd8>]"
      ]
     },
     "execution_count": 15,
     "metadata": {},
     "output_type": "execute_result"
    },
    {
     "data": {
      "image/png": "[encoded data removed]",
      "text/plain": [
       "<matplotlib.figure.Figure at 0x148801605f8>"
      ]
     },
     "metadata": {},
     "output_type": "display_data"
    }
   ],
   "source": [
    "fig=plt.figure() #initiate figure\n",
    "plt.scatter(X[:,1],y,marker='x',c='r') #plot data\n",
    "plt.xlabel('Population of City in 10,000s') #set x axis\n",
    "plt.ylabel('Profit in $10,000s') #set y axis\n",
    "plt.ylim(-5,25) #set limits\n",
    "plt.xlim(4,24)\n",
    "plt.plot(range(4,24),eval('theta[0]+theta[1]*range(4,24)')) #create linear regression line"
   ]
  },
  {
   "cell_type": "code",
   "execution_count": 22,
   "metadata": {
    "collapsed": false
   },
   "outputs": [
    {
     "data": {
      "text/plain": [
       "<matplotlib.text.Text at 0x1488028ae80>"
      ]
     },
     "execution_count": 22,
     "metadata": {},
     "output_type": "execute_result"
    },
    {
     "data": {
      "image/png": "[encoded data removed]",
      "text/plain": [
       "<matplotlib.figure.Figure at 0x1488131dc88>"
      ]
     },
     "metadata": {},
     "output_type": "display_data"
    }
   ],
   "source": [
    "plt.plot(J_history)\n",
    "plt.suptitle('Cost Function vs Iterations', fontsize=20)\n",
    "plt.xlabel('Iterations') #set x axis\n",
    "plt.ylabel('Cost Function') #set y axis"
   ]
  },
  {
   "cell_type": "markdown",
   "metadata": {},
   "source": [
    "### 2.4 Visulizing $J(\\theta)$"
   ]
  },
  {
   "cell_type": "code",
   "execution_count": 33,
   "metadata": {
    "collapsed": false
   },
   "outputs": [],
   "source": [
    "#grid to calculate cost function of theta's\n",
    "theta0_vals=np.linspace(-10,10,100)\n",
    "theta1_vals=np.linspace(-1,4,100)\n",
    "\n",
    "J_vals=np.zeros((len(theta0_vals),len(theta1_vals))) #intialize cost function as zeros\n",
    "\n",
    "#fill out J_vals\n",
    "for i in range(len(theta0_vals)):\n",
    "    for j in range(len(theta1_vals)):\n",
    "        t=np.vstack((theta0_vals[i],theta1_vals[j]))\n",
    "        J_vals[i,j]=computeCost(X,y,t)"
   ]
  },
  {
   "cell_type": "code",
   "execution_count": 60,
   "metadata": {
    "collapsed": false
   },
   "outputs": [
    {
     "data": {
      "text/plain": [
       "<matplotlib.text.Text at 0x148fff0d080>"
      ]
     },
     "execution_count": 60,
     "metadata": {},
     "output_type": "execute_result"
    },
    {
     "data": {
      "image/png": "[encoded data removed]",
      "text/plain": [
       "<matplotlib.figure.Figure at 0x14880168e10>"
      ]
     },
     "metadata": {},
     "output_type": "display_data"
    }
   ],
   "source": [
    "fig=plt.figure()\n",
    "ax=fig.gca(projection='3d')\n",
    "surf=ax.plot_surface(theta1_vals,theta0_vals,J_vals)\n",
    "ax.set_xlabel('theta1')\n",
    "ax.set_ylabel('theta0')\n",
    "ax.set_zlabel('Cost Function')"
   ]
  },
  {
   "cell_type": "markdown",
   "metadata": {},
   "source": [
    "## 3 Linear regression with multiple variables\n",
    "Data contains a training set of housing prices in Portland, Oregon. First column is the size of house, second column is the number of bedrooms, and third column is the price of the house."
   ]
  },
  {
   "cell_type": "code",
   "execution_count": 53,
   "metadata": {
    "collapsed": false
   },
   "outputs": [],
   "source": [
    "data=np.genfromtxt(r'https://raw.githubusercontent.com/eqiu/Classes/master/CS229/HW1/ex1data2.txt',delimiter=',')\n",
    "X=data[:,0:2]\n",
    "y=data[:,2]\n",
    "m=len(y)"
   ]
  },
  {
   "cell_type": "markdown",
   "metadata": {},
   "source": [
    "### 3.1 Feature Normalization\n",
    "Preform feature scaling to make gradient descent converge faster.\n",
    "Subtract mean value of each feature from dataset and divide the feature values by standard deviations. "
   ]
  },
  {
   "cell_type": "code",
   "execution_count": 35,
   "metadata": {
    "collapsed": false
   },
   "outputs": [],
   "source": [
    "def normalize(matrix):\n",
    "    return (matrix-np.mean(matrix,0))/np.std(matrix,axis=0,ddof=1)\n",
    "X=normalize(X)"
   ]
  },
  {
   "cell_type": "code",
   "execution_count": 36,
   "metadata": {
    "collapsed": false
   },
   "outputs": [],
   "source": [
    "X=np.insert(X,0,1,axis=1) #insert column of 1's as intercept\n",
    "theta=np.zeros((3,1)) #initialize fitting parameters\n",
    "alpha=.01\n",
    "num_iters=400"
   ]
  },
  {
   "cell_type": "markdown",
   "metadata": {},
   "source": [
    "### 3.2 Gradient Descent\n",
    "Preform gradient descent on multivariate regression"
   ]
  },
  {
   "cell_type": "code",
   "execution_count": 37,
   "metadata": {
    "collapsed": false
   },
   "outputs": [
    {
     "data": {
      "text/plain": [
       "65591548106.457443"
      ]
     },
     "execution_count": 37,
     "metadata": {},
     "output_type": "execute_result"
    }
   ],
   "source": [
    "computeCost(X,y,theta)"
   ]
  },
  {
   "cell_type": "code",
   "execution_count": 38,
   "metadata": {
    "collapsed": true
   },
   "outputs": [],
   "source": [
    "def gradientDescentMulti(X,y,theta,alpha,num_iters):\n",
    "    m=len(y)\n",
    "    J_history=np.zeros(num_iters)\n",
    "    theta_temp=np.empty(theta.shape)\n",
    "    for i in range(num_iters):\n",
    "        for j in range(len(theta)):\n",
    "            theta_temp[j]=theta[j]-alpha*(1/m)*np.dot((np.dot(X,theta)-y[:,np.newaxis]).T,X[:,j])[0]\n",
    "        theta=copy.deepcopy(theta_temp) #do not assign. Just copy\n",
    "        J_history[i]=computeCost(X,y,theta) #record cost function\n",
    "    return theta,J_history"
   ]
  },
  {
   "cell_type": "code",
   "execution_count": 48,
   "metadata": {
    "collapsed": false
   },
   "outputs": [
    {
     "data": {
      "text/plain": [
       "array([[ 340412.65345227],\n",
       "       [ 110572.96193087],\n",
       "       [  -6591.38592285]])"
      ]
     },
     "execution_count": 48,
     "metadata": {},
     "output_type": "execute_result"
    }
   ],
   "source": [
    "theta=np.zeros((3,1))\n",
    "theta,J_history=gradientDescentMulti(X,y,theta,.3,50)\n",
    "theta"
   ]
  },
  {
   "cell_type": "code",
   "execution_count": 49,
   "metadata": {
    "collapsed": false
   },
   "outputs": [
    {
     "data": {
      "text/plain": [
       "<matplotlib.text.Text at 0x1e6d325ed68>"
      ]
     },
     "execution_count": 49,
     "metadata": {},
     "output_type": "execute_result"
    },
    {
     "data": {
      "image/png": "[encoded data removed]",
      "text/plain": [
       "<matplotlib.figure.Figure at 0x1e6d320e710>"
      ]
     },
     "metadata": {},
     "output_type": "display_data"
    }
   ],
   "source": [
    "plt.plot(J_history)\n",
    "plt.xlabel('Number of Iterations') #set x axis\n",
    "plt.ylabel('Cost Function') #set y axis"
   ]
  },
  {
   "cell_type": "markdown",
   "metadata": {},
   "source": [
    "### 3.3 Normal Equations\n",
    "Closed-Form solution to linear regression is \n",
    "$$\\theta=(X^{T}X)^{-1}X^{T}y$$"
   ]
  },
  {
   "cell_type": "code",
   "execution_count": 177,
   "metadata": {
    "collapsed": false
   },
   "outputs": [
    {
     "data": {
      "text/plain": [
       "array([ 340412.65957447,  110631.05027885,   -6649.47427082])"
      ]
     },
     "execution_count": 177,
     "metadata": {},
     "output_type": "execute_result"
    }
   ],
   "source": [
    "theta=np.linalg.inv(np.dot(X.T,X)).dot(X.T).dot(y)\n",
    "theta"
   ]
  }
 ],
 "metadata": {
  "kernelspec": {
   "display_name": "Python 3",
   "language": "python",
   "name": "python3"
  },
  "language_info": {
   "codemirror_mode": {
    "name": "ipython",
    "version": 3
   },
   "file_extension": ".py",
   "mimetype": "text/x-python",
   "name": "python",
   "nbconvert_exporter": "python",
   "pygments_lexer": "ipython3",
   "version": "3.5.1"
  }
 },
 "nbformat": 4,
 "nbformat_minor": 0
}
