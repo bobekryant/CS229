{
 "cells": [
  {
   "cell_type": "markdown",
   "metadata": {},
   "source": [
    "# Programming Exercise 2: Logistic Regression"
   ]
  },
  {
   "cell_type": "code",
   "execution_count": 3,
   "metadata": {
    "collapsed": true
   },
   "outputs": [],
   "source": [
    "import numpy as np\n",
    "import matplotlib.pyplot as plt\n",
    "import copy #for hard copy assignment\n",
    "from scipy import optimize #NLP optimize solver\n",
    "from sklearn import preprocessing #use for polynomial mapping\n",
    "%matplotlib inline"
   ]
  },
  {
   "cell_type": "markdown",
   "metadata": {},
   "source": [
    "## 1 Logistic Regression\n",
    "Build a logistic regression model to predict whether a student gets admitted into a university."
   ]
  },
  {
   "cell_type": "code",
   "execution_count": 4,
   "metadata": {
    "collapsed": true
   },
   "outputs": [],
   "source": [
    "data=np.genfromtxt(r'https://raw.githubusercontent.com/eqiu/Classes/master/CS229/HW2/ex2data1.txt',delimiter=',')\n",
    "X=data[:,0:2]\n",
    "y=data[:,2]"
   ]
  },
  {
   "cell_type": "markdown",
   "metadata": {},
   "source": [
    "### 1.1 Visualizing the data"
   ]
  },
  {
   "cell_type": "code",
   "execution_count": 5,
   "metadata": {
    "collapsed": false
   },
   "outputs": [
    {
     "data": {
      "text/plain": [
       "<matplotlib.legend.Legend at 0x16d557649b0>"
      ]
     },
     "execution_count": 5,
     "metadata": {},
     "output_type": "execute_result"
    },
    {
     "data": {
      "image/png": "[encoded data removed]",
      "text/plain": [
       "<matplotlib.figure.Figure at 0x16d5559db70>"
      ]
     },
     "metadata": {},
     "output_type": "display_data"
    }
   ],
   "source": [
    "fig=plt.figure() #initiate figure\n",
    "plt.scatter(X[y==0,0],X[y==0,1],facecolors='none',label='Rejected') #plot data\n",
    "plt.scatter(X[y==1,0],X[y==1,1],marker='+',label='Accepted')\n",
    "plt.xlabel('Exam 1 score') #set x axis\n",
    "plt.ylabel('Exam 2 score') #set y axis\n",
    "plt.ylim(30,100) #set limits\n",
    "plt.xlim(30,100)\n",
    "plt.legend()"
   ]
  },
  {
   "cell_type": "markdown",
   "metadata": {},
   "source": [
    "### 1.2 Implementation"
   ]
  },
  {
   "cell_type": "code",
   "execution_count": 6,
   "metadata": {
    "collapsed": false
   },
   "outputs": [
    {
     "data": {
      "text/plain": [
       "0.5"
      ]
     },
     "execution_count": 6,
     "metadata": {},
     "output_type": "execute_result"
    }
   ],
   "source": [
    "def sigmoid(z):\n",
    "    return 1/(1+np.exp(-z))\n",
    "sigmoid(0) #should be .5"
   ]
  },
  {
   "cell_type": "code",
   "execution_count": 7,
   "metadata": {
    "collapsed": true
   },
   "outputs": [],
   "source": [
    "X=np.insert(X,0,1,axis=1) #insert 1's column for intercept"
   ]
  },
  {
   "cell_type": "code",
   "execution_count": 8,
   "metadata": {
    "collapsed": false
   },
   "outputs": [],
   "source": [
    "def costFunction(theta,X,y): #Loop or vectorized implementation. Loop does not seem to work with BFGS optimizer\n",
    "    m=len(y)\n",
    "    hx=sigmoid(np.dot(X,theta))\n",
    "    #cost=0\n",
    "    #for i in range(m): \n",
    "    #    cost+=(-y[i]*np.log(hx[i,0]))-(1-y[i])*np.log(1-hx[i,0])\n",
    "    #cost=cost/m\n",
    "    cost=np.sum(np.dot(-y.T,np.log(hx))-np.dot((1-y).T,np.log(1-hx)))/m #dot product can also be used instead of iteration\n",
    "    return cost\n",
    "def gradFunction(theta,X,y): \n",
    "    grad=np.empty(theta.shape) #this is the partial derivatives of cost function\n",
    "    m=len(y)\n",
    "    hx=sigmoid(np.dot(X,theta))\n",
    "    for j in range(len(grad)):\n",
    "        grad_temp=0\n",
    "        for i in range(m):\n",
    "            grad_temp+=(hx[i]-y[i])*X[i,j]\n",
    "        grad[j]=grad_temp/m       \n",
    "    return grad"
   ]
  },
  {
   "cell_type": "code",
   "execution_count": 9,
   "metadata": {
    "collapsed": false
   },
   "outputs": [
    {
     "data": {
      "text/plain": [
       "0.69314718055994518"
      ]
     },
     "execution_count": 9,
     "metadata": {},
     "output_type": "execute_result"
    }
   ],
   "source": [
    "theta=np.zeros((X.shape[1],1))\n",
    "cost=costFunction(theta,X,y)\n",
    "cost #this matches"
   ]
  },
  {
   "cell_type": "code",
   "execution_count": 10,
   "metadata": {
    "collapsed": false
   },
   "outputs": [
    {
     "data": {
      "text/plain": [
       "array([[ -0.1       ],\n",
       "       [-12.00921659],\n",
       "       [-11.26284221]])"
      ]
     },
     "execution_count": 10,
     "metadata": {},
     "output_type": "execute_result"
    }
   ],
   "source": [
    "gradFunction(theta,X,y)"
   ]
  },
  {
   "cell_type": "markdown",
   "metadata": {
    "collapsed": false
   },
   "source": [
    "### 1.2.3 Learning parameters using BFGS\n",
    "Use scipy.optimize.fmin to find the best parameters $\\theta$ for the logistic regression cost function after passing initial values of parameters and a function that when given training set and particular $\\theta$ computers the logistic regression cost and gradient with respect to $\\theta$ for the dataset (X,y)."
   ]
  },
  {
   "cell_type": "code",
   "execution_count": 11,
   "metadata": {
    "collapsed": false
   },
   "outputs": [
    {
     "name": "stdout",
     "output_type": "stream",
     "text": [
      "Optimization terminated successfully.\n",
      "         Current function value: 0.203498\n",
      "         Iterations: 157\n",
      "         Function evaluations: 287\n"
     ]
    },
    {
     "data": {
      "text/plain": [
       "array([-25.16130062,   0.20623142,   0.20147143])"
      ]
     },
     "execution_count": 11,
     "metadata": {},
     "output_type": "execute_result"
    }
   ],
   "source": [
    "optimize.fmin(costFunction,x0=theta,args=(X,y))"
   ]
  },
  {
   "cell_type": "code",
   "execution_count": 12,
   "metadata": {
    "collapsed": false
   },
   "outputs": [
    {
     "data": {
      "text/plain": [
       "array([-25.16131869,   0.20623159,   0.20147149])"
      ]
     },
     "execution_count": 12,
     "metadata": {},
     "output_type": "execute_result"
    }
   ],
   "source": [
    "theta=optimize.fmin_tnc(func=costFunction,x0=theta,fprime=gradFunction,args=(X,y))[0] #another way to solve problem. This on requires gradient\n",
    "theta #solution matches"
   ]
  },
  {
   "cell_type": "markdown",
   "metadata": {},
   "source": [
    "### 1.2.4 Evaluating logistic regression\n",
    "Student 1: Exam 1 score 45, exam 2 score 85"
   ]
  },
  {
   "cell_type": "code",
   "execution_count": 13,
   "metadata": {
    "collapsed": false
   },
   "outputs": [
    {
     "name": "stdout",
     "output_type": "stream",
     "text": [
      "For a student with exam scores of 45 and 85, he has a admissions probability of 0.776290625351\n"
     ]
    }
   ],
   "source": [
    "student_chance=sigmoid(np.dot(theta,np.array([1,45,85])))\n",
    "print('For a student with exam scores of 45 and 85, he has a admissions probability of',student_chance)"
   ]
  },
  {
   "cell_type": "code",
   "execution_count": 14,
   "metadata": {
    "collapsed": false,
    "scrolled": true
   },
   "outputs": [
    {
     "data": {
      "text/plain": [
       "<matplotlib.legend.Legend at 0x16d55ec8dd8>"
      ]
     },
     "execution_count": 14,
     "metadata": {},
     "output_type": "execute_result"
    },
    {
     "data": {
      "image/png": "[encoded data removed]",
      "text/plain": [
       "<matplotlib.figure.Figure at 0x16d5559d898>"
      ]
     },
     "metadata": {},
     "output_type": "display_data"
    }
   ],
   "source": [
    "fig=plt.figure() #initiate figure\n",
    "plt.scatter(X[y==0,1],X[y==0,2],facecolors='none',label='Rejected') #plot data\n",
    "plt.scatter(X[y==1,1],X[y==1,2],marker='+',label='Accepted')\n",
    "plt.xlabel('Exam 1 score') #set x axis\n",
    "plt.ylabel('Exam 2 score') #set y axis\n",
    "plt.ylim(30,100) #set limits\n",
    "plt.xlim(30,100)\n",
    "plot_x=np.array([30,100])\n",
    "plot_y=np.array([(-1/theta[2])*(theta[0]+theta[1]*plot_x)])\n",
    "plt.plot(plot_x,plot_y.T,'r',label='Decision Boundary')\n",
    "plt.legend()"
   ]
  },
  {
   "cell_type": "code",
   "execution_count": 15,
   "metadata": {
    "collapsed": false
   },
   "outputs": [
    {
     "name": "stdout",
     "output_type": "stream",
     "text": [
      "Percent of examples predicted correctly 0.89\n"
     ]
    }
   ],
   "source": [
    "def predict(theta,X):\n",
    "    output=np.empty(len(X))\n",
    "    percents=sigmoid(np.dot(X,theta))\n",
    "    output[percents>.5]=1\n",
    "    output[percents<.5]=0\n",
    "    return output\n",
    "prediction=predict(theta,X)\n",
    "prediction_test=np.sum(prediction==y)/len(y)\n",
    "print('Percent of examples predicted correctly',prediction_test)"
   ]
  },
  {
   "cell_type": "markdown",
   "metadata": {
    "collapsed": false
   },
   "source": [
    "## 2 Regularized logistic regression\n",
    "Will implement regularized logistic regression to predict whether microchips from a fabrication plant passes quailty assurance."
   ]
  },
  {
   "cell_type": "markdown",
   "metadata": {
    "collapsed": false
   },
   "source": [
    "### 2.1 Visualize the data"
   ]
  },
  {
   "cell_type": "code",
   "execution_count": 16,
   "metadata": {
    "collapsed": false
   },
   "outputs": [],
   "source": [
    "data=np.genfromtxt(r'https://raw.githubusercontent.com/eqiu/Classes/master/CS229/HW2/ex2data2.txt',delimiter=',')\n",
    "X=data[:,0:2]\n",
    "y=data[:,2]"
   ]
  },
  {
   "cell_type": "code",
   "execution_count": 17,
   "metadata": {
    "collapsed": false
   },
   "outputs": [
    {
     "data": {
      "text/plain": [
       "<matplotlib.legend.Legend at 0x16d55f4a8d0>"
      ]
     },
     "execution_count": 17,
     "metadata": {},
     "output_type": "execute_result"
    },
    {
     "data": {
      "image/png": "[encoded data removed]",
      "text/plain": [
       "<matplotlib.figure.Figure at 0x16d55e88f98>"
      ]
     },
     "metadata": {},
     "output_type": "display_data"
    }
   ],
   "source": [
    "fig=plt.figure() #initiate figure\n",
    "plt.scatter(X[y==0,0],X[y==0,1],facecolors='none',label='y=0') #plot data\n",
    "plt.scatter(X[y==1,0],X[y==1,1],marker='+',label='y=1')\n",
    "plt.xlabel('Microchip Test 1') #set x axis\n",
    "plt.ylabel('Exam 2 score') #set y axis\n",
    "plt.ylim(-.8,1.2) #set limits\n",
    "plt.xlim(-1,1.5)\n",
    "plt.legend()"
   ]
  },
  {
   "cell_type": "markdown",
   "metadata": {},
   "source": [
    "### 2.2 Feature mapping"
   ]
  },
  {
   "cell_type": "code",
   "execution_count": 18,
   "metadata": {
    "collapsed": false
   },
   "outputs": [
    {
     "data": {
      "text/plain": [
       "(118, 28)"
      ]
     },
     "execution_count": 18,
     "metadata": {},
     "output_type": "execute_result"
    }
   ],
   "source": [
    "features=preprocessing.PolynomialFeatures(6).fit_transform(X) #use sklearn \n",
    "features.shape #turn into a 28 dimension vector"
   ]
  },
  {
   "cell_type": "code",
   "execution_count": 19,
   "metadata": {
    "collapsed": true
   },
   "outputs": [],
   "source": [
    "X=features\n",
    "theta=np.zeros((X.shape[1],1))"
   ]
  },
  {
   "cell_type": "markdown",
   "metadata": {},
   "source": [
    "### 2.3  Cost function and gradient"
   ]
  },
  {
   "cell_type": "code",
   "execution_count": 20,
   "metadata": {
    "collapsed": false
   },
   "outputs": [
    {
     "data": {
      "text/plain": [
       "0.69314718055994529"
      ]
     },
     "execution_count": 20,
     "metadata": {},
     "output_type": "execute_result"
    }
   ],
   "source": [
    "def costFunctionReg(theta,X,y,lambda_val): #Loop or vectorized implementation. Loop does not seem to work with BFGS optimizer\n",
    "    m=len(y)\n",
    "    hx=sigmoid(np.dot(X,theta))\n",
    "    cost=np.sum(np.dot(-y.T,np.log(hx))-np.dot((1-y).T,np.log(1-hx)))/m #dot product can also be used instead of iteration\n",
    "    reg_term=lambda_val/(2*m)*np.sum(theta**2)\n",
    "    return cost+reg_term\n",
    "costFunctionReg(theta,X,y,1)"
   ]
  },
  {
   "cell_type": "code",
   "execution_count": 21,
   "metadata": {
    "collapsed": false
   },
   "outputs": [
    {
     "data": {
      "text/plain": [
       "array([[  8.47457627e-03],\n",
       "       [  1.87880932e-02],\n",
       "       [  7.77711864e-05],\n",
       "       [  5.03446395e-02],\n",
       "       [  1.15013308e-02],\n",
       "       [  3.76648474e-02],\n",
       "       [  1.83559872e-02],\n",
       "       [  7.32393391e-03],\n",
       "       [  8.19244468e-03],\n",
       "       [  2.34764889e-02],\n",
       "       [  3.93486234e-02],\n",
       "       [  2.23923907e-03],\n",
       "       [  1.28600503e-02],\n",
       "       [  3.09593720e-03],\n",
       "       [  3.93028171e-02],\n",
       "       [  1.99707467e-02],\n",
       "       [  4.32983232e-03],\n",
       "       [  3.38643902e-03],\n",
       "       [  5.83822078e-03],\n",
       "       [  4.47629067e-03],\n",
       "       [  3.10079849e-02],\n",
       "       [  3.10312442e-02],\n",
       "       [  1.09740238e-03],\n",
       "       [  6.31570797e-03],\n",
       "       [  4.08503006e-04],\n",
       "       [  7.26504316e-03],\n",
       "       [  1.37646175e-03],\n",
       "       [  3.87936363e-02]])"
      ]
     },
     "execution_count": 21,
     "metadata": {},
     "output_type": "execute_result"
    }
   ],
   "source": [
    "def gradientFunctionReg(theta,X,y,lambda_val):\n",
    "    grad=np.empty(theta.shape) #this is the partial derivatives of cost function\n",
    "    m=len(y)\n",
    "    hx=sigmoid(np.dot(X,theta))\n",
    "    for j in range(len(grad)):\n",
    "        grad_temp=0\n",
    "        for i in range(m):\n",
    "            grad_temp+=(hx[i]-y[i])*X[i,j]\n",
    "        if j==0: #for first iteration\n",
    "            grad[j]=grad_temp/m       \n",
    "        else: #other iterations\n",
    "            grad[j]=grad_temp/m+(lambda_val/m)*theta[j]   \n",
    "    return grad\n",
    "gradientFunctionReg(theta,X,y,1)"
   ]
  },
  {
   "cell_type": "code",
   "execution_count": 22,
   "metadata": {
    "collapsed": false
   },
   "outputs": [
    {
     "data": {
      "text/plain": [
       "array([  12.43692044,   15.16181467,    4.00001841, -132.48625504,\n",
       "        -84.06021402,  -51.92228086, -130.57545959,  -88.33667346,\n",
       "        -42.07102152,    6.51602255,  483.38591887,  452.31784605,\n",
       "        522.89530085,  276.99449779,   74.45090769,  246.46340154,\n",
       "        305.13189812,  307.66965359,  124.74629117,   45.0225104 ,\n",
       "          3.87073235, -578.77959134, -724.53734301, -974.86472429,\n",
       "       -735.62740064, -630.08464063, -301.95625305,  -60.14282716])"
      ]
     },
     "execution_count": 22,
     "metadata": {},
     "output_type": "execute_result"
    }
   ],
   "source": [
    "theta=optimize.fmin_tnc(func=costFunctionReg,x0=theta,fprime=gradientFunctionReg, args=(X,y,0))[0]\n",
    "theta"
   ]
  },
  {
   "cell_type": "markdown",
   "metadata": {},
   "source": [
    "### 2.4 Plotting the decision boundary"
   ]
  },
  {
   "cell_type": "code",
   "execution_count": 43,
   "metadata": {
    "collapsed": false
   },
   "outputs": [
    {
     "data": {
      "text/plain": [
       "<matplotlib.collections.PathCollection at 0x16d5700fb00>"
      ]
     },
     "execution_count": 43,
     "metadata": {},
     "output_type": "execute_result"
    },
    {
     "data": {
      "image/png": "[encoded data removed]",
      "text/plain": [
       "<matplotlib.figure.Figure at 0x16d55fabc88>"
      ]
     },
     "metadata": {},
     "output_type": "display_data"
    }
   ],
   "source": [
    "u=np.linspace(-1,1.5,50)\n",
    "v=np.linspace(-1,1.5,50)\n",
    "z=np.zeros((len(u),len(v)))\n",
    "for i in range(len(u)):\n",
    "    for j in range(len(v)):\n",
    "        z[i,j]=np.dot(preprocessing.PolynomialFeatures(6).fit_transform(np.vstack((u[i],v[j])).T),theta)[0]\n",
    "z=z.T\n",
    "u,v=np.meshgrid(u,v)\n",
    "plt.contour(u,v,z,[0])\n",
    "plt.title(\"Decision Boundary\")\n",
    "plt.scatter(data[y==0,0],data[y==0,1],facecolors='none',label='y=0') #plot data\n",
    "plt.scatter(data[y==1,0],data[y==1,1],marker='+',label='y=1')"
   ]
  },
  {
   "cell_type": "markdown",
   "metadata": {
    "collapsed": true
   },
   "source": [
    "### 2.5 Optional"
   ]
  },
  {
   "cell_type": "code",
   "execution_count": 45,
   "metadata": {
    "collapsed": false
   },
   "outputs": [
    {
     "data": {
      "text/plain": [
       "array([ 0.03760688, -0.02776978,  0.03209992, -0.10459889, -0.0288966 ,\n",
       "       -0.06193232, -0.03256609, -0.0138863 , -0.01771271, -0.0345301 ,\n",
       "       -0.08566215, -0.00477057, -0.02728826, -0.00774723, -0.0746998 ,\n",
       "       -0.03964464, -0.00912041, -0.00680653, -0.01202526, -0.01044583,\n",
       "       -0.05646892, -0.06786019, -0.00195033, -0.01394367, -0.00070516,\n",
       "       -0.01553714, -0.00348431, -0.07612255])"
      ]
     },
     "execution_count": 45,
     "metadata": {},
     "output_type": "execute_result"
    }
   ],
   "source": [
    "lambda_val=50\n",
    "theta=optimize.fmin_tnc(func=costFunctionReg,x0=np.zeros((X.shape[1],1)),fprime=gradientFunctionReg, args=(X,y,lambda_val))[0]\n",
    "theta"
   ]
  },
  {
   "cell_type": "code",
   "execution_count": 46,
   "metadata": {
    "collapsed": false
   },
   "outputs": [
    {
     "data": {
      "text/plain": [
       "<matplotlib.collections.PathCollection at 0x16d57072f98>"
      ]
     },
     "execution_count": 46,
     "metadata": {},
     "output_type": "execute_result"
    },
    {
     "data": {
      "image/png": "[encoded data removed]",
      "text/plain": [
       "<matplotlib.figure.Figure at 0x16d56fde898>"
      ]
     },
     "metadata": {},
     "output_type": "display_data"
    }
   ],
   "source": [
    "u=np.linspace(-1,1.5,50)\n",
    "v=np.linspace(-1,1.5,50)\n",
    "z=np.zeros((len(u),len(v)))\n",
    "for i in range(len(u)):\n",
    "    for j in range(len(v)):\n",
    "        z[i,j]=np.dot(preprocessing.PolynomialFeatures(6).fit_transform(np.vstack((u[i],v[j])).T),theta)[0]\n",
    "z=z.T\n",
    "u,v=np.meshgrid(u,v)\n",
    "plt.contour(u,v,z,[0])\n",
    "plt.title(\"Decision Boundary\")\n",
    "plt.scatter(data[y==0,0],data[y==0,1],facecolors='none',label='y=0') #plot data\n",
    "plt.scatter(data[y==1,0],data[y==1,1],marker='+',label='y=1')"
   ]
  },
  {
   "cell_type": "code",
   "execution_count": null,
   "metadata": {
    "collapsed": true
   },
   "outputs": [],
   "source": []
  }
 ],
 "metadata": {
  "kernelspec": {
   "display_name": "Python 3",
   "language": "python",
   "name": "python3"
  },
  "language_info": {
   "codemirror_mode": {
    "name": "ipython",
    "version": 3
   },
   "file_extension": ".py",
   "mimetype": "text/x-python",
   "name": "python",
   "nbconvert_exporter": "python",
   "pygments_lexer": "ipython3",
   "version": "3.5.1"
  }
 },
 "nbformat": 4,
 "nbformat_minor": 0
}
