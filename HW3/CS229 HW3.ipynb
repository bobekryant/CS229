{
 "cells": [
  {
   "cell_type": "markdown",
   "metadata": {},
   "source": [
    "# Programming Assignment 3: Multi-class classifcation and Neural Networks\n"
   ]
  },
  {
   "cell_type": "markdown",
   "metadata": {},
   "source": [
    "## 1 Multi-class Classification\n",
    "Use logistic regression and neural networks to recognize handwritten digits"
   ]
  },
  {
   "cell_type": "markdown",
   "metadata": {},
   "source": [
    "### 1.1 Dataset"
   ]
  },
  {
   "cell_type": "code",
   "execution_count": 28,
   "metadata": {
    "collapsed": true
   },
   "outputs": [],
   "source": [
    "import numpy as np\n",
    "import matplotlib.pyplot as plt\n",
    "import scipy.io #Used to load .mat files\n",
    "import random\n",
    "from scipy import optimize\n",
    "%matplotlib inline"
   ]
  },
  {
   "cell_type": "code",
   "execution_count": 29,
   "metadata": {
    "collapsed": false
   },
   "outputs": [],
   "source": [
    "data=scipy.io.loadmat('hws\\machine-learning-ex3\\ex3\\ex3data1.mat')\n",
    "X=data['X']\n",
    "y=data['y']"
   ]
  },
  {
   "cell_type": "markdown",
   "metadata": {},
   "source": [
    "### 1.2 Visualizing the data"
   ]
  },
  {
   "cell_type": "code",
   "execution_count": 30,
   "metadata": {
    "collapsed": false
   },
   "outputs": [
    {
     "data": {
      "text/plain": [
       "(-0.5, 398.5, 19.5, -0.5)"
      ]
     },
     "execution_count": 30,
     "metadata": {},
     "output_type": "execute_result"
    },
    {
     "data": {
      "image/png": "[encoded data removed]",
      "text/plain": [
       "<matplotlib.figure.Figure at 0x1bdec36d550>"
      ]
     },
     "metadata": {},
     "output_type": "display_data"
    }
   ],
   "source": [
    "sample=np.random.choice(X.shape[0], 20)\n",
    "plt.imshow(X[sample,1:].reshape(-1,20).T)\n",
    "plt.axis('off')"
   ]
  },
  {
   "cell_type": "markdown",
   "metadata": {},
   "source": [
    "### 1.3 Vectorizing Logistic Regression"
   ]
  },
  {
   "cell_type": "code",
   "execution_count": 31,
   "metadata": {
    "collapsed": false
   },
   "outputs": [
    {
     "data": {
      "text/plain": [
       "0.5"
      ]
     },
     "execution_count": 31,
     "metadata": {},
     "output_type": "execute_result"
    }
   ],
   "source": [
    "def sigmoid(z):\n",
    "    return 1/(1+np.exp(-z))\n",
    "sigmoid(0) #should be .5"
   ]
  },
  {
   "cell_type": "code",
   "execution_count": 32,
   "metadata": {
    "collapsed": false
   },
   "outputs": [],
   "source": [
    "num_labels=10\n",
    "lambda_val=0\n",
    "m,n=X.shape\n",
    "X=np.insert(X,0,values=np.ones(m),axis=1) #inset column of ones at beginning\n",
    "theta=np.zeros((X.shape[1],1))"
   ]
  },
  {
   "cell_type": "code",
   "execution_count": 33,
   "metadata": {
    "collapsed": false
   },
   "outputs": [],
   "source": [
    "def lrCostFunction(theta,X,y,lambda_val):\n",
    "    m=len(y)\n",
    "    hx=sigmoid(np.dot(X,theta))\n",
    "    cost=np.sum(np.dot(-y.T,np.log(hx))-np.dot((1-y.T),np.log(1-hx)))/m\n",
    "    return cost"
   ]
  },
  {
   "cell_type": "code",
   "execution_count": 34,
   "metadata": {
    "collapsed": false
   },
   "outputs": [],
   "source": [
    "def lrGradFunction(theta,X,y,lambda_val): #vectorized partial derivatives\n",
    "    m=len(y)\n",
    "    hx=sigmoid(np.dot(X,theta))\n",
    "    partials=np.dot(X.T,(hx-y))/m\n",
    "    return partials"
   ]
  },
  {
   "cell_type": "code",
   "execution_count": 35,
   "metadata": {
    "collapsed": false
   },
   "outputs": [],
   "source": [
    "def lrCostFunction_reg(theta,X,y,lambda_val):\n",
    "    m=len(y)\n",
    "    hx=sigmoid(np.dot(X,theta))\n",
    "    cost=np.sum(np.dot(-y.T,np.log(hx))-np.dot((1-y.T),np.log(1-hx)))/m\n",
    "    reg_term=lambda_val/(2*m)*np.sum(theta**2)\n",
    "    return cost+reg_term"
   ]
  },
  {
   "cell_type": "code",
   "execution_count": 36,
   "metadata": {
    "collapsed": false
   },
   "outputs": [],
   "source": [
    "def lrGradFunction_reg(theta,X,y,lambda_val):\n",
    "    m=len(y)\n",
    "    hx=sigmoid(np.dot(X,theta))\n",
    "    partials=np.dot(X.T,(hx-y))/m\n",
    "    reg_term=(lambda_val/m)*theta[1:len(theta)]\n",
    "    partials[1:len(theta)]=partials[1:len(theta)]+reg_term\n",
    "    return partials"
   ]
  },
  {
   "cell_type": "markdown",
   "metadata": {},
   "source": [
    "### 1.4 One-vs-all Classification\n",
    "Implement one-vs-all classification by training multiple regularized logisitc regression classifiers"
   ]
  },
  {
   "cell_type": "code",
   "execution_count": 109,
   "metadata": {
    "collapsed": false
   },
   "outputs": [
    {
     "name": "stdout",
     "output_type": "stream",
     "text": [
      "Optimizing number 1...\n",
      "Optimizing number 2...\n",
      "Optimizing number 3...\n",
      "Optimizing number 4...\n",
      "Optimizing number 5...\n",
      "Optimizing number 6...\n",
      "Optimizing number 7...\n",
      "Optimizing number 8...\n",
      "Optimizing number 9...\n",
      "Optimizing number 10...\n"
     ]
    }
   ],
   "source": [
    "def oneVsAll(X,y,num_labels,lambda_val):\n",
    "    m,n=X.shape\n",
    "    theta_matrix=np.zeros((num_labels,n))\n",
    "    for i in range(1,num_labels+1):\n",
    "        new_y=np.zeros((len(y))) #create new y\n",
    "        new_y[np.squeeze(y==i)]=1 #set one K class to 1 and other 8 to 0\n",
    "        print (\"Optimizing number %d...\"%i)\n",
    "        theta_matrix[i-1]=optimize.minimize(lrCostFunction_reg, theta, args=(X,new_y,lambda_val), method=None,jac=lrGradFunction_reg).x\n",
    "    return theta_matrix\n",
    "theta_matrix=oneVsAll(X,y,num_labels,.3)"
   ]
  },
  {
   "cell_type": "markdown",
   "metadata": {
    "collapsed": true
   },
   "source": [
    "### 1.5 One-vs-all Prediction"
   ]
  },
  {
   "cell_type": "code",
   "execution_count": 110,
   "metadata": {
    "collapsed": false
   },
   "outputs": [
    {
     "data": {
      "text/plain": [
       "0.95120000000000005"
      ]
     },
     "execution_count": 110,
     "metadata": {},
     "output_type": "execute_result"
    }
   ],
   "source": [
    "probs=sigmoid(np.dot(X,theta_matrix.T)) #grab probabilities of each digit\n",
    "results=np.argmax(probs,axis=1)+1 #see which column is highest. Add one because there is no digit 0. \n",
    "results[results==0]=10 #replace 0's with 10s\n",
    "np.sum(np.squeeze(y)==results)/len(y)"
   ]
  },
  {
   "cell_type": "markdown",
   "metadata": {},
   "source": [
    "## Neural Networks"
   ]
  },
  {
   "cell_type": "markdown",
   "metadata": {},
   "source": [
    "### 2.1 Model representation\n",
    "Neural net has 3 layers, input layer, hidden layer, and output layer. Inputs are pixel values of digit images. Parameters have dimensions that are sized for a neural network with 25 units in the second layer and 10 output units."
   ]
  },
  {
   "cell_type": "code",
   "execution_count": 24,
   "metadata": {
    "collapsed": false
   },
   "outputs": [
    {
     "name": "stdout",
     "output_type": "stream",
     "text": [
      "(25, 401)\n",
      "(10, 26)\n"
     ]
    }
   ],
   "source": [
    "weights=scipy.io.loadmat('hws\\machine-learning-ex3\\ex3\\ex3weights.mat')\n",
    "theta1,theta2=weights['Theta1'],weights['Theta2']\n",
    "print(theta1.shape)\n",
    "print(theta2.shape)"
   ]
  },
  {
   "cell_type": "markdown",
   "metadata": {},
   "source": [
    "### 2.2 Feedforward Propagation and Prediction"
   ]
  },
  {
   "cell_type": "code",
   "execution_count": 86,
   "metadata": {
    "collapsed": true
   },
   "outputs": [],
   "source": [
    "def predict(theta1,theta2,X):\n",
    "    a2=sigmoid(np.dot(theta1,X.T))\n",
    "    a2=np.insert(a2,0,values=np.ones(len(X)),axis=0)\n",
    "    a3=sigmoid(np.dot(theta2,a2)).T\n",
    "    predictions=np.argmax(a3,axis=1)+1\n",
    "    return predictions\n",
    "predictions=predict(theta1,theta2,X)"
   ]
  },
  {
   "cell_type": "code",
   "execution_count": 87,
   "metadata": {
    "collapsed": false
   },
   "outputs": [],
   "source": [
    "np.sum(np.squeeze(y)==predictions)/len(y)"
   ]
  }
 ],
 "metadata": {
  "kernelspec": {
   "display_name": "Python 3",
   "language": "python",
   "name": "python3"
  },
  "language_info": {
   "codemirror_mode": {
    "name": "ipython",
    "version": 3
   },
   "file_extension": ".py",
   "mimetype": "text/x-python",
   "name": "python",
   "nbconvert_exporter": "python",
   "pygments_lexer": "ipython3",
   "version": "3.5.1"
  }
 },
 "nbformat": 4,
 "nbformat_minor": 0
}
