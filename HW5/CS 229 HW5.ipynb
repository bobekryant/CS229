{
 "cells": [
  {
   "cell_type": "markdown",
   "metadata": {},
   "source": [
    "# Programming Excercise 5: Regulaized Linear Regression and Bias vs Variance"
   ]
  },
  {
   "cell_type": "markdown",
   "metadata": {},
   "source": [
    "## 1 Regularized Linear Regression\n"
   ]
  },
  {
   "cell_type": "code",
   "execution_count": 1,
   "metadata": {
    "collapsed": true
   },
   "outputs": [],
   "source": [
    "import numpy as np\n",
    "import matplotlib.pyplot as plt\n",
    "import scipy.io #Used to load the OCTAVE *.mat files\n",
    "import scipy.optimize\n",
    "import sklearn.preprocessing\n",
    "import sklearn.linear_model\n",
    "%matplotlib inline"
   ]
  },
  {
   "cell_type": "code",
   "execution_count": 2,
   "metadata": {
    "collapsed": false
   },
   "outputs": [
    {
     "data": {
      "text/plain": [
       "dict_keys(['Xtest', 'yval', '__header__', 'Xval', '__version__', 'y', 'ytest', '__globals__', 'X'])"
      ]
     },
     "execution_count": 2,
     "metadata": {},
     "output_type": "execute_result"
    }
   ],
   "source": [
    "data=scipy.io.loadmat('hws\\machine-learning-ex5\\ex5\\ex5data1.mat')\n",
    "data.keys()"
   ]
  },
  {
   "cell_type": "code",
   "execution_count": 3,
   "metadata": {
    "collapsed": false
   },
   "outputs": [],
   "source": [
    "y=data['y']\n",
    "X=data['X']\n",
    "yval=data['yval']\n",
    "Xval=data['Xval']\n",
    "Xtest=data['Xtest']\n",
    "X=np.insert(X,0,1,axis=1)\n",
    "Xval=np.insert(Xval ,0,1,axis=1)\n",
    "Xtest=np.insert(Xtest,0,1,axis=1)\n",
    "lambda_val=0"
   ]
  },
  {
   "cell_type": "markdown",
   "metadata": {},
   "source": [
    "### 1.1 Visualizing the dataset"
   ]
  },
  {
   "cell_type": "code",
   "execution_count": 4,
   "metadata": {
    "collapsed": false
   },
   "outputs": [
    {
     "data": {
      "image/png": "[encoded data removed]",
      "text/plain": [
       "<matplotlib.figure.Figure at 0x1e6b3ff9470>"
      ]
     },
     "metadata": {},
     "output_type": "display_data"
    }
   ],
   "source": [
    "plt.figure(figsize=(8,5))\n",
    "plt.ylabel('Water flowing out of the dam (y)')\n",
    "plt.xlabel('Change in water level (x)')\n",
    "plt.plot(X[:,1],y,'rx')\n",
    "plt.grid(True)"
   ]
  },
  {
   "cell_type": "markdown",
   "metadata": {
    "collapsed": true
   },
   "source": [
    "### 1.2 Regularizing linear regression cost function"
   ]
  },
  {
   "cell_type": "code",
   "execution_count": 5,
   "metadata": {
    "collapsed": true
   },
   "outputs": [],
   "source": [
    "def hx(theta,X):\n",
    "    return np.dot(X,theta)"
   ]
  },
  {
   "cell_type": "code",
   "execution_count": 6,
   "metadata": {
    "collapsed": false
   },
   "outputs": [
    {
     "data": {
      "text/plain": [
       "303.95152555359761"
      ]
     },
     "execution_count": 6,
     "metadata": {},
     "output_type": "execute_result"
    }
   ],
   "source": [
    "theta=np.ones(X.shape[1])\n",
    "def lin_cost(theta,X,y,lambda_val):\n",
    "    m=len(y)\n",
    "    J=(np.sum((hx(theta,X)-y.flatten())**2))/(2*m)+(np.sum(theta**2))*(lambda_val/(2*m))\n",
    "    return J\n",
    "lin_cost(theta,X,y,lambda_val)"
   ]
  },
  {
   "cell_type": "code",
   "execution_count": 7,
   "metadata": {
    "collapsed": false
   },
   "outputs": [
    {
     "data": {
      "text/plain": [
       "array([ -15.30301567,  598.16741084])"
      ]
     },
     "execution_count": 7,
     "metadata": {},
     "output_type": "execute_result"
    }
   ],
   "source": [
    "def lin_grad(theta,X,y,lambda_val):\n",
    "    m=len(y)\n",
    "    grad=np.dot(hx(theta,X)-y.flatten(),X)/m\n",
    "    for i in (range(1,theta.shape[0])):\n",
    "        grad[i]+=(lambda_val/m)*theta[i]\n",
    "    return grad\n",
    "lin_grad(theta,X,y,lambda_val)"
   ]
  },
  {
   "cell_type": "markdown",
   "metadata": {},
   "source": [
    "### 1.4 Fitting linear regression"
   ]
  },
  {
   "cell_type": "code",
   "execution_count": 31,
   "metadata": {
    "collapsed": false
   },
   "outputs": [
    {
     "data": {
      "text/plain": [
       "array([ 13.08790734,   0.36777925])"
      ]
     },
     "execution_count": 31,
     "metadata": {},
     "output_type": "execute_result"
    }
   ],
   "source": [
    "def lin_reg(theta,X,y,lambda_val):\n",
    "    new_thetas=scipy.optimize.fmin_cg(lin_cost,x0=theta,fprime=lin_grad,args=(X,y,lambda_val),maxiter=1000,disp=False,full_output=False)\n",
    "    return new_thetas\n",
    "new_thetas=lin_reg(theta,X,y,lambda_val)\n",
    "new_thetas"
   ]
  },
  {
   "cell_type": "code",
   "execution_count": 9,
   "metadata": {
    "collapsed": false
   },
   "outputs": [
    {
     "data": {
      "text/plain": [
       "[<matplotlib.lines.Line2D at 0x1e6b493bcf8>]"
      ]
     },
     "execution_count": 9,
     "metadata": {},
     "output_type": "execute_result"
    },
    {
     "data": {
      "image/png": "[encoded data removed]",
      "text/plain": [
       "<matplotlib.figure.Figure at 0x1e6b44304a8>"
      ]
     },
     "metadata": {},
     "output_type": "display_data"
    }
   ],
   "source": [
    "plt.figure(figsize=(8,5))\n",
    "plt.ylabel('Water flowing out of the dam (y)')\n",
    "plt.xlabel('Change in water level (x)')\n",
    "plt.plot(X[:,1],y,'rx')\n",
    "plt.grid(True)\n",
    "plt.plot(X[:,1],hx(new_thetas,X).flatten())"
   ]
  },
  {
   "cell_type": "markdown",
   "metadata": {},
   "source": [
    "## 2 Bias-variance"
   ]
  },
  {
   "cell_type": "markdown",
   "metadata": {},
   "source": [
    "### 2.1 Learning curves"
   ]
  },
  {
   "cell_type": "code",
   "execution_count": 10,
   "metadata": {
    "collapsed": false
   },
   "outputs": [
    {
     "data": {
      "text/plain": [
       "array([ 13.08790734,   0.36777925])"
      ]
     },
     "execution_count": 10,
     "metadata": {},
     "output_type": "execute_result"
    }
   ],
   "source": [
    "lin_reg(theta,X,y,lambda_val)"
   ]
  },
  {
   "cell_type": "code",
   "execution_count": 11,
   "metadata": {
    "collapsed": false
   },
   "outputs": [],
   "source": [
    "def learningCurve(theta,X,y,Xval,yval,lambda_val):\n",
    "    '''Plot training and cross validation error as function of training set size'''\n",
    "    m=len(y)\n",
    "    error_train=np.zeros((m,1))\n",
    "    error_cval=np.zeros((m,1))\n",
    "    for i in range(m):\n",
    "        theta_train=lin_reg(theta,X[:i+1],y[:i+1],lambda_val)\n",
    "        error_train[i]=lin_cost(theta_train,X[:i+1],y[:i+1],lambda_val)\n",
    "        error_cval[i]=lin_cost(theta_train,Xval,yval,lambda_val)\n",
    "    return error_train,error_cval"
   ]
  },
  {
   "cell_type": "markdown",
   "metadata": {},
   "source": [
    "There is too high bias. As the number of training examples increases, both the training error and validation error increase, signalling that there is high bias and a more complex model is needed"
   ]
  },
  {
   "cell_type": "code",
   "execution_count": 12,
   "metadata": {
    "collapsed": false
   },
   "outputs": [
    {
     "data": {
      "image/png": "[encoded data removed]",
      "text/plain": [
       "<matplotlib.figure.Figure at 0x1e6b440a828>"
      ]
     },
     "metadata": {},
     "output_type": "display_data"
    }
   ],
   "source": [
    "training_error,cval_error=learningCurve(theta,X,y,Xval,yval,lambda_val)\n",
    "plt.plot(range(1,13),training_error, label='Training error')\n",
    "plt.plot(range(1,13),cval_error, label='Validation error')\n",
    "plt.title('Learning curve for linear regression')\n",
    "plt.xlabel('Number of training examples')\n",
    "plt.ylabel('Error')\n",
    "plt.legend();"
   ]
  },
  {
   "cell_type": "markdown",
   "metadata": {},
   "source": [
    "## 3 Polynomial regression"
   ]
  },
  {
   "cell_type": "code",
   "execution_count": 13,
   "metadata": {
    "collapsed": false
   },
   "outputs": [],
   "source": [
    "poly=sklearn.preprocessing.PolynomialFeatures(6)\n",
    "X_poly=poly.fit_transform(X[:,1].reshape(-1,1)) #get polynomials\n",
    "X_poly=sklearn.preprocessing.normalize(X_poly) #normalize features\n",
    "theta_poly=np.ones((X_poly.shape[1]))"
   ]
  },
  {
   "cell_type": "code",
   "execution_count": 21,
   "metadata": {
    "collapsed": false
   },
   "outputs": [
    {
     "name": "stdout",
     "output_type": "stream",
     "text": [
      "Warning: Maximum number of iterations has been exceeded.\n",
      "         Current function value: 33.144039\n",
      "         Iterations: 1400\n",
      "         Function evaluations: 5190\n",
      "         Gradient evaluations: 5190\n"
     ]
    },
    {
     "data": {
      "text/plain": [
       "array([ 3651.72171302,  4788.23329947,  6470.27246011, -8069.63897072,\n",
       "        -610.74717852,   202.65879875,    14.86767554])"
      ]
     },
     "execution_count": 21,
     "metadata": {},
     "output_type": "execute_result"
    }
   ],
   "source": [
    "scipy.optimize.fmin_cg(lin_cost,x0=np.ones((X_poly.shape[1])),fprime=lin_grad,args=(X_poly,y,lambda_val))"
   ]
  },
  {
   "cell_type": "code",
   "execution_count": 32,
   "metadata": {
    "collapsed": false
   },
   "outputs": [
    {
     "data": {
      "text/plain": [
       "array([ 2732.60397369,  3584.99003813,  4809.32125328, -5704.3818595 ,\n",
       "        -723.95336994,   178.38835864,    15.16522817])"
      ]
     },
     "execution_count": 32,
     "metadata": {},
     "output_type": "execute_result"
    }
   ],
   "source": [
    "new_thetas=lin_reg(theta_poly,X_poly,y,0)\n",
    "new_thetas"
   ]
  },
  {
   "cell_type": "code",
   "execution_count": 17,
   "metadata": {
    "collapsed": true
   },
   "outputs": [],
   "source": [
    "theta_poly=np.ones((X_poly.shape[1]))"
   ]
  }
 ],
 "metadata": {
  "anaconda-cloud": {},
  "kernelspec": {
   "display_name": "Python [Root]",
   "language": "python",
   "name": "Python [Root]"
  },
  "language_info": {
   "codemirror_mode": {
    "name": "ipython",
    "version": 3
   },
   "file_extension": ".py",
   "mimetype": "text/x-python",
   "name": "python",
   "nbconvert_exporter": "python",
   "pygments_lexer": "ipython3",
   "version": "3.5.2"
  }
 },
 "nbformat": 4,
 "nbformat_minor": 0
}
